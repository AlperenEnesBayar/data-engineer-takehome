{
 "cells": [
  {
   "cell_type": "code",
   "execution_count": 1,
   "metadata": {},
   "outputs": [],
   "source": [
    "import os\n",
    "import cv2\n",
    "import numpy as np"
   ]
  },
  {
   "cell_type": "code",
   "execution_count": 2,
   "metadata": {},
   "outputs": [],
   "source": [
    "def headshot_extractor(input_image_path, output_folder_path, haar_cascade_path):\n",
    "\n",
    "    # Checking the image path if exists read it with OpenCV\n",
    "    if os.path.exists(input_image_path):\n",
    "        input_image = cv2.imread(input_image_path)\n",
    "    else:\n",
    "        print(\"Image not found. Please check the path\")\n",
    "        return \n",
    "\n",
    "    # If output folder not exists create a new directory\n",
    "    if not os.path.exists(output_folder_path):\n",
    "        os.makedirs(output_folder_path)\n",
    "\n",
    "    # Checking the cascade path\n",
    "    if os.path.exists(haar_cascade_path):\n",
    "        face_cascade = cv2.CascadeClassifier(haar_cascade_path)\n",
    "    else:\n",
    "        print(\"Haar cascade not found. Please check the path.\")\n",
    "        return\n",
    "    \n",
    "    # Grayscaling the image for cascade detector\n",
    "    gray_image = cv2.cvtColor(input_image, cv2.COLOR_BGR2GRAY)\n",
    "\n",
    "    # Running the cascade for face detection\n",
    "    faces = face_cascade.detectMultiScale(gray_image, scaleFactor=1.3, minNeighbors=5)\n",
    "\n",
    "    # Iterating and saving the face images\n",
    "    for index, (x,y,w,h) in enumerate (faces):\n",
    "        roi_color = input_image[y:y+h, x:x+w]\n",
    "        image_name = output_folder_path + \"\\\\\" + input_image_path.split('\\\\')[-1].split('.')[0] + \"_face_\" + str(index) + \".\" + input_image_path.split('\\\\')[-1].split('.')[1]\n",
    "        cv2.imwrite(image_name, roi_color)\n",
    "        print(\"Image \", image_name, \" saved.\")\n",
    "\n",
    "    print(\"Number of faces: \", len(faces))\n",
    "\n",
    "    "
   ]
  },
  {
   "cell_type": "code",
   "execution_count": 3,
   "metadata": {},
   "outputs": [
    {
     "name": "stdout",
     "output_type": "stream",
     "text": [
      "Image  Outputs\\test1_face_0.jpg  saved.\n",
      "Image  Outputs\\test1_face_1.jpg  saved.\n",
      "Image  Outputs\\test1_face_2.jpg  saved.\n",
      "Number of faces:  3\n"
     ]
    }
   ],
   "source": [
    "input_image_path = \"TestInputs\\\\test1.jpg\"\n",
    "output_folder_path = \"Outputs\"\n",
    "haar_cascade_path = \"haarcascade_frontalface_default.xml\"\n",
    "\n",
    "headshot_extractor(input_image_path, output_folder_path, haar_cascade_path)"
   ]
  }
 ],
 "metadata": {
  "kernelspec": {
   "display_name": "face",
   "language": "python",
   "name": "python3"
  },
  "language_info": {
   "codemirror_mode": {
    "name": "ipython",
    "version": 3
   },
   "file_extension": ".py",
   "mimetype": "text/x-python",
   "name": "python",
   "nbconvert_exporter": "python",
   "pygments_lexer": "ipython3",
   "version": "3.9.15"
  },
  "orig_nbformat": 4,
  "vscode": {
   "interpreter": {
    "hash": "c12141ebc0d1e157982b51530759da2f355642c82a9eded718c1052db2dc030c"
   }
  }
 },
 "nbformat": 4,
 "nbformat_minor": 2
}
